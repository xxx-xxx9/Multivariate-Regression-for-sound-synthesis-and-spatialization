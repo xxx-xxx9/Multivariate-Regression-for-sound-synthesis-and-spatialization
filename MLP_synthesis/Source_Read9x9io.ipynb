{
 "cells": [
  {
   "cell_type": "code",
   "execution_count": 6,
   "id": "091616ae-2edd-4b3a-bd8b-2e90404ac6b0",
   "metadata": {},
   "outputs": [
    {
     "name": "stdout",
     "output_type": "stream",
     "text": [
      "data_in [[0.063, 0.039], [0.455, 0.134], [0.847, 0.268], [0.008, 0.417], [0.537, 0.524], [0.772, 0.473], [0.134, 0.74], [0.534, 0.89], [0.942, 0.795]]\n",
      "data_out [[0.1, 100.0, 1.0, 0.2, 600.0, 0.01], [0.3, 50.0, 0.8, 0.1, 1500.0, 0.4], [0.5, 5.0, 0.6, 0.01, 10000.0, 0.7], [0.9, 90.0, 0.7, 0.6, 700.0, 0.1], [1.0, 40.0, 0.5, 0.5, 2000.0, 0.5], [1.1, 4.0, 0.3, 0.2, 10000.0, 0.8], [2.0, 80.0, 0.3, 1.0, 900.0, 0.2], [3.0, 30.0, 0.1, 0.8, 3000.0, 0.6], [4.0, 1.0, 0.0, 0.6, 16000.0, 0.9]]\n",
      "File JSON creato: file_synth_9x9.json\n"
     ]
    }
   ],
   "source": [
    "# 100 punti 2D corrispondono a 100 target/vettori da 9 numeri \n",
    "\n",
    "import os\n",
    "import json\n",
    "import joblib\n",
    "import matplotlib.pyplot as plt\n",
    "import numpy as np\n",
    "from sklearn.preprocessing import MinMaxScaler\n",
    "\n",
    "data = {\n",
    "    \"bidim\": [],\n",
    "    \"multidim\": []\n",
    "}\n",
    "#num_fonti = 9x3\n",
    "#num_freeze = 9\n",
    "\n",
    "with open(\"Data/ingressi2.txt\", \"r\") as f:\n",
    "    data_in = []  # Lista per contenere i dati in ingresso\n",
    "    \n",
    "    for line in f:\n",
    "        line = line.strip().replace(\"\\n\", \"\")  # Rimuove cr ossia il simbolo di capo riga\n",
    "        parts = line.split(\" \", 1)  # Divide quando trova lo spazio\n",
    "\n",
    "        if len(parts) == 2:  # Assicuriamoci che ci siano 2 numeri\n",
    "            first_num = float(parts[0])  # Converte il primo numero in float\n",
    "            other_nums = list(map(float, parts[1].split()))  # Converte il secondo numero\n",
    "\n",
    "            data_in.append([first_num] + other_nums)  # Unisci tutto in una lista per riga\n",
    "\n",
    "data[\"bidim\"] = data_in\n",
    "print(\"data_in\", data_in)\n",
    "\n",
    "with open(\"Data/uscite2.txt\", \"r\") as g:\n",
    "    data_out = []  # Lista per contenere i dati in uscita\n",
    "    \n",
    "    for g_line in g:\n",
    "        g_line = g_line.strip().replace(\"\\n\", \"\")  # Rimuove cr ossia il simbolo di capo riga\n",
    "        #print(\"g_line\", g_line)\n",
    "        parts = list(map(float,g_line.split(\" \", 9)))  # Divide quando trova lo spazio\n",
    "        #print(\"parts\", parts)\n",
    "\n",
    "        data_out.append(parts)  # Unisci tutto in una lista per riga\n",
    "\n",
    "# normalizzi i target\n",
    "d_o=np.array(data_out)\n",
    "y_scaler = MinMaxScaler()\n",
    "data_out_scaled = y_scaler.fit_transform(d_o)\n",
    "\n",
    "# Salva lo scaler su file\n",
    "joblib.dump(y_scaler, \"y_scaler.pkl\")\n",
    "        \n",
    "#print(\"data_out_scaled\", data_out_scaled)        \n",
    "data[\"multidim\"] = data_out_scaled.tolist()\n",
    "\n",
    "\n",
    "print(\"data_out\", data_out)\n",
    "#print(\"multidim\", data[\"multidim\"])\n",
    "\n",
    "output_json = \"file_synth_9x9.json\"\n",
    "with open(output_json, 'w') as out:\n",
    "    json.dump(data, out, indent=2)\n",
    "print(f\"File JSON creato: {output_json}\")\n"
   ]
  },
  {
   "cell_type": "code",
   "execution_count": null,
   "id": "66feecdd-71b8-4633-a0c1-add91cbcb919",
   "metadata": {},
   "outputs": [],
   "source": []
  }
 ],
 "metadata": {
  "kernelspec": {
   "display_name": "Python 3 (ipykernel)",
   "language": "python",
   "name": "python3"
  },
  "language_info": {
   "codemirror_mode": {
    "name": "ipython",
    "version": 3
   },
   "file_extension": ".py",
   "mimetype": "text/x-python",
   "name": "python",
   "nbconvert_exporter": "python",
   "pygments_lexer": "ipython3",
   "version": "3.12.3"
  }
 },
 "nbformat": 4,
 "nbformat_minor": 5
}
